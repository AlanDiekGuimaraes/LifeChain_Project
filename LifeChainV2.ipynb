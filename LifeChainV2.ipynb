{
  "cells": [
    {
      "cell_type": "code",
      "execution_count": 1,
      "metadata": {
        "id": "nKynHmU85vw6"
      },
      "outputs": [],
      "source": [
        "import hashlib\n",
        "import json\n",
        "from time import time\n",
        "\n",
        "class Bloco:\n",
        "    def __init__(self, index, dados, hash_anterior=''):\n",
        "        self.index = index\n",
        "        self.timestamp = time()\n",
        "        self.dados = dados\n",
        "        self.hash_anterior = hash_anterior\n",
        "        self.nonce = 0\n",
        "        self.hash_atual = self.gerar_hash()\n",
        "\n",
        "    def gerar_hash(self):\n",
        "        conteudo_bloco = json.dumps({\n",
        "            'index': self.index,\n",
        "            'timestamp': self.timestamp,\n",
        "            'dados': self.dados,\n",
        "            'hash_anterior': self.hash_anterior,\n",
        "            'nonce': self.nonce\n",
        "        }, sort_keys=True).encode()\n",
        "        return hashlib.sha256(conteudo_bloco).hexdigest()\n",
        "\n",
        "    def prova_de_trabalho(self, dificuldade):\n",
        "        while self.hash_atual[:dificuldade] != '0' * dificuldade:\n",
        "            self.nonce += 1\n",
        "            self.hash_atual = self.gerar_hash()\n",
        "\n",
        "class Blockchain:\n",
        "    def __init__(self):\n",
        "        self.cadeia = [self.criar_bloco_genesis()]\n",
        "        self.dificuldade = 2\n",
        "\n",
        "    def criar_bloco_genesis(self):\n",
        "        return Bloco(0, \"Bloco Genesis\", \"0\")\n",
        "\n",
        "    def obter_ultimo_bloco(self):\n",
        "        return self.cadeia[-1]\n",
        "\n",
        "    def adicionar_bloco(self, novo_bloco):\n",
        "        novo_bloco.hash_anterior = self.obter_ultimo_bloco().hash_atual\n",
        "        novo_bloco.prova_de_trabalho(self.dificuldade)\n",
        "        self.cadeia.append(novo_bloco)\n",
        "\n",
        "    def validar_cadeia(self):\n",
        "        for i in range(1, len(self.cadeia)):\n",
        "            bloco_atual = self.cadeia[i]\n",
        "            bloco_anterior = self.cadeia[i-1]\n",
        "\n",
        "            if bloco_atual.hash_atual != bloco_atual.gerar_hash():\n",
        "                return False\n",
        "            if bloco_atual.hash_anterior != bloco_anterior.hash_atual:\n",
        "                return False\n",
        "        return True\n",
        "\n",
        "    def salvar_em_json(self, nome_arquivo='blockchain.json'):\n",
        "        with open(nome_arquivo, 'w') as arquivo:\n",
        "            json.dump([bloco.__dict__ for bloco in self.cadeia], arquivo, indent=4)\n",
        "\n",
        "def coletar_dados_exame():\n",
        "    glicose = float(input(\"Digite o nível de glicose: \"))\n",
        "    colesterol = float(input(\"Digite o nível de colesterol: \"))\n",
        "    return {\n",
        "        'glicose': glicose,\n",
        "        'colesterol': colesterol\n",
        "    }\n"
      ]
    },
    {
      "cell_type": "code",
      "execution_count": null,
      "metadata": {
        "colab": {
          "base_uri": "https://localhost:8080/"
        },
        "id": "kFgVIiLj54DQ",
        "outputId": "fa6323e5-f027-4491-8dfa-ec67c7537953"
      },
      "outputs": [],
      "source": [
        "blockchain = Blockchain()\n",
        "\n"
      ]
    },
    {
      "cell_type": "code",
      "execution_count": null,
      "metadata": {
        "colab": {
          "base_uri": "https://localhost:8080/"
        },
        "id": "LxiP7bvv6nKt",
        "outputId": "a7ed81e3-b1c9-4f90-dceb-17693226eed6"
      },
      "outputs": [],
      "source": [
        "dados_exame = coletar_dados_exame()\n",
        "novo_bloco = Bloco(blockchain.obter_ultimo_bloco().index + 1, dados_exame)\n",
        "blockchain.adicionar_bloco(novo_bloco)\n",
        "\n",
        "if blockchain.validar_cadeia():\n",
        "    blockchain.salvar_em_json()\n",
        "    print(\"Blockchain válida e salva!\")\n",
        "else:\n",
        "    print(\"Erro na validação da blockchain!\")\n"
      ]
    },
    {
      "cell_type": "code",
      "execution_count": null,
      "metadata": {
        "colab": {
          "base_uri": "https://localhost:8080/"
        },
        "id": "BzghtAo86J54",
        "outputId": "a3c8b262-33a5-4776-d5af-2e8880507f82"
      },
      "outputs": [],
      "source": [
        "def print_json_content(filename):\n",
        "\n",
        "  try:\n",
        "    with open(filename, 'r') as file:\n",
        "      data = json.load(file)\n",
        "      print(json.dumps(data, indent=4))  # Imprime o conteúdo com indentação para melhor legibilidade\n",
        "  except FileNotFoundError:\n",
        "    print(f\"Erro: Arquivo '{filename}' não encontrado.\")\n",
        "  except json.JSONDecodeError:\n",
        "    print(f\"Erro: O arquivo '{filename}' não é um JSON válido.\")\n",
        "\n",
        "print_json_content('blockchain.json')"
      ]
    }
  ],
  "metadata": {
    "colab": {
      "provenance": []
    },
    "kernelspec": {
      "display_name": "Python 3",
      "name": "python3"
    },
    "language_info": {
      "name": "python"
    }
  },
  "nbformat": 4,
  "nbformat_minor": 0
}
